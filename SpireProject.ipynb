{
 "cells": [
  {
   "cell_type": "code",
   "execution_count": 32,
   "metadata": {},
   "outputs": [],
   "source": [
    "import numpy as np\n",
    "import pandas as pd\n",
    "import math"
   ]
  },
  {
   "cell_type": "code",
   "execution_count": 33,
   "metadata": {},
   "outputs": [],
   "source": [
    "def strip(text):\n",
    "    try:\n",
    "        return text.strip()\n",
    "    except AttributeError:\n",
    "        return text"
   ]
  },
  {
   "cell_type": "code",
   "execution_count": 34,
   "metadata": {},
   "outputs": [],
   "source": [
    "# Import data\n",
    "rawSpireData = pd.read_csv('/home/reinhardb/SpireFinalProject/data/allRawData.csv',\n",
    "                          names=[\"Master_Deck\", \"relics\", \"Victory\", \"Character_Chosen\", \"Items_purchased\", \"Ascension_Level\", \"Gold_per_floor\", \"Potions_obtained\"],engine='python', header=0)\n",
    "allWins = pd.read_csv('/home/reinhardb/SpireFinalProject/data/allWins.csv',names=[\"Master_Deck\", \"relics\", \"Victory\", \"Character_Chosen\", \"Items_purchased\", \"Ascension_Level\", \"Gold_per_floor\", \"Potions_obtained\"], engine='python')\n",
    "\n",
    "# Can upload and import as needed\n",
    "#defectRawData = pd.read_csv('/home/reinhardb/SpireFinalProject/data/defectRawData.csv',names=[\"Master_Deck\", \"relics\", \"Victory\", \"Character_Chosen\", \"Items_purchased\", \"Acension_Level\", \"Gold_per_floor\", \"Potions_obtained\"], engine='python',header=0)\n",
    "# defectWin = pd.read_csv('/home/reinhardb/SpireFinalProject/data/defectWin.csv')\n",
    "\n",
    "# ironCladRawData = pd.read_csv('/home/reinhardb/SpireFinalProject/data/ironCladRawData.csv')\n",
    "# ironCladWin = pd.read_csv('/home/reinhardb/SpireFinalProject/data/ironCladWin.csv')\n",
    "\n",
    "# silentRawData = pd.read_csv('/home/reinhardb/SpireFinalProject/data/silentRawData.csv')\n",
    "# silentWin = pd.read_csv('/home/reinhardb/SpireFinalProject/data/silentWin.csv')"
   ]
  },
  {
   "cell_type": "code",
   "execution_count": 35,
   "metadata": {},
   "outputs": [],
   "source": [
    "from sklearn.feature_extraction.text import CountVectorizer\n",
    "from sklearn.preprocessing import MultiLabelBinarizer\n",
    "\n",
    "def split_comma(s):\n",
    "   return s.replace('[', '').replace(']', '').split(',')\n",
    "\n",
    "vect = CountVectorizer(stop_words=None, tokenizer=split_comma)\n",
    "\n",
    "def trainData(df):\n",
    "#   print(df)\n",
    "    df[\"Master_Deck\"].str.replace('\"', '')\n",
    "    #df['relics'].str.replace('\"', '')\n",
    "    master_deck_strs = df.Master_Deck.str.join('')\n",
    "    #relics_string = df.relics.str.join('')\n",
    "    X = vect.fit_transform(master_deck_strs)\n",
    "    return X\n",
    "\n",
    "def cleanData(df):\n",
    "    df[\"Master_Deck\"].str.replace('\"', '')\n",
    "    #df['relics'].str.replace('\"', '')\n",
    "    master_deck_strs = df.Master_Deck.str.join('')\n",
    "    #relics_string = df.relics.str.join('')\n",
    "    X = vect.transform(master_deck_strs)\n",
    "    return X"
   ]
  },
  {
   "cell_type": "code",
   "execution_count": 36,
   "metadata": {},
   "outputs": [],
   "source": [
    "# Setup training\n",
    "mask = [\"Master_Deck\", \"relics\", \"Victory\", \"Ascension_Level\"]\n",
    "df = rawSpireData[mask]\n",
    "X = trainData(df)\n",
    "df = df.join(pd.DataFrame(X.toarray(), columns=vect.get_feature_names()))"
   ]
  },
  {
   "cell_type": "code",
   "execution_count": 37,
   "metadata": {},
   "outputs": [
    {
     "data": {
      "text/plain": [
       "MultinomialNB(alpha=1.0, class_prior=None, fit_prior=True)"
      ]
     },
     "execution_count": 37,
     "metadata": {},
     "output_type": "execute_result"
    }
   ],
   "source": [
    "from sklearn.model_selection import train_test_split\n",
    "from sklearn.naive_bayes import MultinomialNB\n",
    "X_train, X_test, y_train, y_test = train_test_split(X, df[\"Victory\"], test_size = 0.3, random_state=42)\n",
    "model = MultinomialNB()\n",
    "model.fit(X_train, y_train)\n"
   ]
  },
  {
   "cell_type": "code",
   "execution_count": 38,
   "metadata": {},
   "outputs": [
    {
     "name": "stdout",
     "output_type": "stream",
     "text": [
      "Train accuracy is 85.35 %\n",
      "Test accuracy is 85.34 %\n"
     ]
    }
   ],
   "source": [
    "print(\"Train accuracy is %.2f %%\" % (model.score(X_train, y_train)*100))\n",
    "print(\"Test accuracy is %.2f %%\" % (model.score(X_test, y_test)*100))"
   ]
  },
  {
   "cell_type": "code",
   "execution_count": 39,
   "metadata": {},
   "outputs": [],
   "source": [
    "def getPrediction(prediction_df, row = 0, num_round=3):\n",
    "    X_predict = cleanData(prediction_df)\n",
    "    predicted = model.predict(X_predict[row])\n",
    "    predicted_prob = model.predict_proba(X_predict[row])\n",
    "    target_labels = ['Fail', 'Victory']\n",
    "\n",
    "    prob_fail = round(predicted_prob[0][0]*100,num_round)\n",
    "    prob_pass = round(predicted_prob[0][1]*100, num_round)\n",
    "    \n",
    "    print(prediction_df.iloc[row])\n",
    "    #display predictions\n",
    "    for run, victory in zip(prediction_df.iloc[row], predicted):\n",
    "        print('%r => %s' % (run, target_labels[int(round(victory))]))\n",
    "        print(\"Probality: failure: {}, victory: {}\".format(prob_fail, prob_pass))\n",
    "    "
   ]
  },
  {
   "cell_type": "code",
   "execution_count": 40,
   "metadata": {
    "scrolled": true
   },
   "outputs": [
    {
     "name": "stdout",
     "output_type": "stream",
     "text": [
      "Master_Deck        [\"Strike_B\",\"Strike_B+1\",\"Strike_B\",\"Strike_B\"...\n",
      "relics             [\"Cracked Core\",\"Omamori\",\"Oddly Smooth Stone\"...\n",
      "Victory                                                         True\n",
      "Ascension_Level                                                    0\n",
      "Name: 21, dtype: object\n",
      "'[\"Strike_B\",\"Strike_B+1\",\"Strike_B\",\"Strike_B\",\"Defend_B\",\"Defend_B\",\"Defend_B\",\"Defend_B\",\"Zap+1\",\"Dualcast+1\",\"Chaos+1\",\"Melter\",\"Auto Shields+1\",\"Ball Lightning\",\"Undo\",\"Sunder+1\",\"Seek+1\",\"Reprogram\",\"Loop+1\",\"Sunder\",\"Steam\",\"Sweeping Beam\",\"Beam Cell\",\"Hello World\",\"White Noise+1\",\"Creative AI+1\",\"Hologram+1\",\"Genetic Algorithm+1\",\"Hologram+1\",\"Genetic Algorithm+1\",\"Ball Lightning+1\",\"Streamline+1\",\"Defragment+1\",\"Force Field+1\"]' => Victory\n",
      "Probality: failure: 26.185, victory: 73.815\n"
     ]
    }
   ],
   "source": [
    "# Conversion process\n",
    "# Get raw data\n",
    "predictionData = pd.read_csv('/home/reinhardb/SpireFinalProject/data/unseen.csv',names=[\"Master_Deck\", \"relics\", \"Victory\", \"Character_Chosen\", \"Items_purchased\", \"Ascension_Level\", \"Gold_per_floor\", \"Potions_obtained\"], engine='python',header=0)\n",
    "# Make feature data frame\n",
    "prediction_df = predictionData[mask]\n",
    "# print(prediction_df)\n",
    "\n",
    "getPrediction(prediction_df, row=21)\n"
   ]
  },
  {
   "cell_type": "code",
   "execution_count": 41,
   "metadata": {},
   "outputs": [
    {
     "name": "stdout",
     "output_type": "stream",
     "text": [
      "Master_Deck        [\"Strike_R\",\"Strike_R+1\",\"Strike_R\",\"Strike_R\"...\n",
      "relics                                             [\"Burning Blood\"]\n",
      "Victory                                                        False\n",
      "Ascension_Level                                                    4\n",
      "Name: 0, dtype: object\n",
      "'[\"Strike_R\",\"Strike_R+1\",\"Strike_R\",\"Strike_R\",\"Defend_R+1\",\"Defend_R\",\"Bash\",\"Clash+1\"]' => Fail\n",
      "Probality: failure: 96.593, victory: 3.407\n"
     ]
    }
   ],
   "source": [
    "liveGame = pd.read_csv('/home/reinhardb/SpireFinalProject/data/predict.csv',names=[\"Master_Deck\", \"relics\", \"Victory\", \"Character_Chosen\", \"Items_purchased\", \"Ascension_Level\", \"Gold_per_floor\", \"Potions_obtained\"], engine='python',header=0)\n",
    "live_game_df = liveGame[mask]\n",
    "getPrediction(live_game_df)"
   ]
  },
  {
   "cell_type": "code",
   "execution_count": null,
   "metadata": {},
   "outputs": [],
   "source": []
  }
 ],
 "metadata": {
  "kernelspec": {
   "display_name": "Python 3",
   "language": "python",
   "name": "python3"
  },
  "language_info": {
   "codemirror_mode": {
    "name": "ipython",
    "version": 3
   },
   "file_extension": ".py",
   "mimetype": "text/x-python",
   "name": "python",
   "nbconvert_exporter": "python",
   "pygments_lexer": "ipython3",
   "version": "3.6.7"
  }
 },
 "nbformat": 4,
 "nbformat_minor": 2
}
